{
 "cells": [
  {
   "cell_type": "markdown",
   "metadata": {},
   "source": [
    "# Autoencoder"
   ]
  },
  {
   "cell_type": "code",
   "execution_count": 2,
   "metadata": {},
   "outputs": [],
   "source": [
    "import os\n",
    "\n",
    "from utils.loaders import load_mnist\n",
    "from models.AE import Autoencoder"
   ]
  },
  {
   "cell_type": "markdown",
   "metadata": {},
   "source": [
    "## Set parameters"
   ]
  },
  {
   "cell_type": "code",
   "execution_count": 3,
   "metadata": {},
   "outputs": [
    {
     "output_type": "stream",
     "name": "stdout",
     "text": [
      "run/vae/0001_digits\n"
     ]
    }
   ],
   "source": [
    "# run params\n",
    "SECTION = 'vae'\n",
    "RUN_ID = '0001'\n",
    "DATA_NAME = 'digits'\n",
    "RUN_FOLDER = 'run/{}/'.format(SECTION)\n",
    "RUN_FOLDER += '_'.join([RUN_ID, DATA_NAME])\n",
    "\n",
    "print(RUN_FOLDER)\n",
    "\n",
    "if not os.path.exists(RUN_FOLDER):\n",
    "    os.mkdir(RUN_FOLDER)\n",
    "    os.mkdir(os.path.join(RUN_FOLDER, 'viz'))\n",
    "    os.mkdir(os.path.join(RUN_FOLDER, 'images'))\n",
    "    os.mkdir(os.path.join(RUN_FOLDER, 'weights'))\n",
    "\n",
    "MODE =  'build' #'load' #"
   ]
  },
  {
   "cell_type": "markdown",
   "metadata": {},
   "source": [
    "## Load the data"
   ]
  },
  {
   "cell_type": "code",
   "execution_count": 4,
   "metadata": {},
   "outputs": [],
   "source": [
    "(x_train, y_train), (x_test, y_test) = load_mnist()"
   ]
  },
  {
   "cell_type": "markdown",
   "metadata": {},
   "source": [
    "## Define the structure of the neural network"
   ]
  },
  {
   "cell_type": "code",
   "execution_count": 5,
   "metadata": {},
   "outputs": [],
   "source": [
    "AE = Autoencoder(\n",
    "    input_dim = (28,28,1)\n",
    "    , encoder_conv_filters = [32,64,64,64]  # conv層の出力フィルタ数 conv層は合計4層\n",
    "    , encoder_conv_kernel_size = [3,3,3,3]  # conv層のカーネル（フィルタ）サイズ\n",
    "    , encoder_conv_strides = [1,2,2,1]  # convのstride数 1:出力サイズ同じ, 2:出力サイズ半分\n",
    "    , decoder_conv_t_filters = [64,64,32,1]\n",
    "    , decoder_conv_t_kernel_size = [3,3,3,3]\n",
    "    , decoder_conv_t_strides = [1,2,2,1]\n",
    "    , z_dim = 2\n",
    ")\n",
    "\n",
    "if MODE == 'build':\n",
    "    AE.save(RUN_FOLDER)\n",
    "else:\n",
    "    AE.load_weights(os.path.join(RUN_FOLDER, 'weights/weights.h5'))"
   ]
  },
  {
   "cell_type": "code",
   "execution_count": 6,
   "metadata": {},
   "outputs": [
    {
     "output_type": "stream",
     "name": "stdout",
     "text": [
      "Model: \"model\"\n_________________________________________________________________\nLayer (type)                 Output Shape              Param #   \n=================================================================\nencoder_input (InputLayer)   [(None, 28, 28, 1)]       0         \n_________________________________________________________________\nencoder_conv_0 (Conv2D)      (None, 28, 28, 32)        320       \n_________________________________________________________________\nleaky_re_lu (LeakyReLU)      (None, 28, 28, 32)        0         \n_________________________________________________________________\nencoder_conv_1 (Conv2D)      (None, 14, 14, 64)        18496     \n_________________________________________________________________\nleaky_re_lu_1 (LeakyReLU)    (None, 14, 14, 64)        0         \n_________________________________________________________________\nencoder_conv_2 (Conv2D)      (None, 7, 7, 64)          36928     \n_________________________________________________________________\nleaky_re_lu_2 (LeakyReLU)    (None, 7, 7, 64)          0         \n_________________________________________________________________\nencoder_conv_3 (Conv2D)      (None, 7, 7, 64)          36928     \n_________________________________________________________________\nleaky_re_lu_3 (LeakyReLU)    (None, 7, 7, 64)          0         \n_________________________________________________________________\nflatten (Flatten)            (None, 3136)              0         \n_________________________________________________________________\nencoder_output (Dense)       (None, 2)                 6274      \n=================================================================\nTotal params: 98,946\nTrainable params: 98,946\nNon-trainable params: 0\n_________________________________________________________________\n"
     ]
    }
   ],
   "source": [
    "AE.encoder.summary()"
   ]
  },
  {
   "source": [
    "encoder_conv_0 (Conv2D)    Param:320<br>\n",
    "(3 * 3 * 1 + 1) * 32 = 320<br>\n",
    "(filter h  ×  filter w  ×  input channel  +  bias)  ×  output channel<br><br>\n",
    "encoder_conv_1 (Conv2D)    Param:18496<br> \n",
    "(3 * 3 * 32 + 1) * 64 = 18496\n",
    "\n"
   ],
   "cell_type": "markdown",
   "metadata": {}
  },
  {
   "source": [
    "↑最終的には2次元ベクトルにエンコードしている"
   ],
   "cell_type": "markdown",
   "metadata": {}
  },
  {
   "cell_type": "code",
   "execution_count": 8,
   "metadata": {},
   "outputs": [
    {
     "output_type": "stream",
     "name": "stdout",
     "text": [
      "Model: \"model_1\"\n_________________________________________________________________\nLayer (type)                 Output Shape              Param #   \n=================================================================\ndecoder_input (InputLayer)   [(None, 2)]               0         \n_________________________________________________________________\ndense (Dense)                (None, 3136)              9408      \n_________________________________________________________________\nreshape (Reshape)            (None, 7, 7, 64)          0         \n_________________________________________________________________\ndecoder_conv_t_0 (Conv2DTran (None, 7, 7, 64)          36928     \n_________________________________________________________________\nleaky_re_lu_4 (LeakyReLU)    (None, 7, 7, 64)          0         \n_________________________________________________________________\ndecoder_conv_t_1 (Conv2DTran (None, 14, 14, 64)        36928     \n_________________________________________________________________\nleaky_re_lu_5 (LeakyReLU)    (None, 14, 14, 64)        0         \n_________________________________________________________________\ndecoder_conv_t_2 (Conv2DTran (None, 28, 28, 32)        18464     \n_________________________________________________________________\nleaky_re_lu_6 (LeakyReLU)    (None, 28, 28, 32)        0         \n_________________________________________________________________\ndecoder_conv_t_3 (Conv2DTran (None, 28, 28, 1)         289       \n_________________________________________________________________\nactivation (Activation)      (None, 28, 28, 1)         0         \n=================================================================\nTotal params: 102,017\nTrainable params: 102,017\nNon-trainable params: 0\n_________________________________________________________________\n"
     ]
    }
   ],
   "source": [
    "AE.decoder.summary()"
   ]
  },
  {
   "cell_type": "code",
   "execution_count": 10,
   "metadata": {},
   "outputs": [
    {
     "output_type": "stream",
     "name": "stdout",
     "text": [
      "Model: \"model_2\"\n_________________________________________________________________\nLayer (type)                 Output Shape              Param #   \n=================================================================\nencoder_input (InputLayer)   [(None, 28, 28, 1)]       0         \n_________________________________________________________________\nencoder_conv_0 (Conv2D)      (None, 28, 28, 32)        320       \n_________________________________________________________________\nleaky_re_lu (LeakyReLU)      (None, 28, 28, 32)        0         \n_________________________________________________________________\nencoder_conv_1 (Conv2D)      (None, 14, 14, 64)        18496     \n_________________________________________________________________\nleaky_re_lu_1 (LeakyReLU)    (None, 14, 14, 64)        0         \n_________________________________________________________________\nencoder_conv_2 (Conv2D)      (None, 7, 7, 64)          36928     \n_________________________________________________________________\nleaky_re_lu_2 (LeakyReLU)    (None, 7, 7, 64)          0         \n_________________________________________________________________\nencoder_conv_3 (Conv2D)      (None, 7, 7, 64)          36928     \n_________________________________________________________________\nleaky_re_lu_3 (LeakyReLU)    (None, 7, 7, 64)          0         \n_________________________________________________________________\nflatten (Flatten)            (None, 3136)              0         \n_________________________________________________________________\nencoder_output (Dense)       (None, 2)                 6274      \n_________________________________________________________________\nmodel_1 (Model)              (None, 28, 28, 1)         102017    \n=================================================================\nTotal params: 200,963\nTrainable params: 200,963\nNon-trainable params: 0\n_________________________________________________________________\n"
     ]
    }
   ],
   "source": [
    " # エンコーダとデコーダを連結する\n",
    "AE.model.summary()"
   ]
  },
  {
   "cell_type": "markdown",
   "metadata": {},
   "source": [
    "## Train the autoencoder"
   ]
  },
  {
   "cell_type": "code",
   "execution_count": null,
   "metadata": {},
   "outputs": [],
   "source": []
  },
  {
   "cell_type": "code",
   "execution_count": null,
   "metadata": {},
   "outputs": [],
   "source": []
  },
  {
   "cell_type": "code",
   "execution_count": null,
   "metadata": {},
   "outputs": [],
   "source": []
  }
 ],
 "metadata": {
  "kernelspec": {
   "name": "python3",
   "display_name": "Python 3.7.8 64-bit ('gene': conda)",
   "metadata": {
    "interpreter": {
     "hash": "cae6ee89de24adb7e80f07c08b82208d7e9380fe33a85f210ac7701be4f75324"
    }
   }
  },
  "language_info": {
   "codemirror_mode": {
    "name": "ipython",
    "version": 3
   },
   "file_extension": ".py",
   "mimetype": "text/x-python",
   "name": "python",
   "nbconvert_exporter": "python",
   "pygments_lexer": "ipython3",
   "version": "3.7.8-final"
  }
 },
 "nbformat": 4,
 "nbformat_minor": 2
}